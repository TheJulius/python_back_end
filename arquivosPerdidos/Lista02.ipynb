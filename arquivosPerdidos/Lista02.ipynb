{
 "cells": [
  {
   "cell_type": "code",
   "execution_count": 1,
   "metadata": {},
   "outputs": [
    {
     "data": {
      "text/plain": [
       "[2, 4, 6]"
      ]
     },
     "execution_count": 1,
     "metadata": {},
     "output_type": "execute_result"
    }
   ],
   "source": [
    "def dobro(x,y,z):\n",
    "    return [x*2, y*2, z*2]\n",
    "\n",
    "dobro(1,2,3)"
   ]
  },
  {
   "cell_type": "code",
   "execution_count": null,
   "metadata": {},
   "outputs": [],
   "source": [
    "numero = int(input(\"Fatorial de: \") )\n",
    "\n",
    "resultado=1\n",
    "count=1\n",
    "\n",
    "while count <= numero:\n",
    "    resultado *= count\n",
    "    count += 1\n",
    "\n",
    "print(resultado)"
   ]
  },
  {
   "cell_type": "code",
   "execution_count": null,
   "metadata": {},
   "outputs": [],
   "source": [
    "num=int(input(\"Digite um numero\"))\n",
    "if num%2==1:\n",
    "    print(\"primo\")\n",
    "else:\n",
    "    print(\"não primo\")"
   ]
  },
  {
   "cell_type": "code",
   "execution_count": 1,
   "metadata": {},
   "outputs": [
    {
     "data": {
      "text/plain": [
       "[6, 27]"
      ]
     },
     "execution_count": 1,
     "metadata": {},
     "output_type": "execute_result"
    }
   ],
   "source": [
    "def primeiroESegundoGrau(a,b,c,x):\n",
    "    return [a*x+b,a*(x*x)+(b*x)+c]\n",
    "\n",
    "primeiroESegundoGrau(1,2,3,4)"
   ]
  },
  {
   "cell_type": "code",
   "execution_count": null,
   "metadata": {},
   "outputs": [],
   "source": [
    "ano = int(input('Ano: '))\n",
    "if (ano%4==0 and ano%100!=0) or (ano%400==0):\n",
    "    print('Bissexto')\n",
    "else:\n",
    "    print('Não é bissexto')"
   ]
  },
  {
   "cell_type": "code",
   "execution_count": 2,
   "metadata": {},
   "outputs": [
    {
     "name": "stdout",
     "output_type": "stream",
     "text": [
      "vai ter segundo turno\n"
     ]
    }
   ],
   "source": [
    "resultado1 = 'vai ter segundo turno'\n",
    "resultado2 = 'nao vai ter segundo turno'\n",
    "\n",
    "def segundoTurno(x,y):\n",
    "    if (x > 200000 and y > (x/2)) :\n",
    "        return print(resultado1)\n",
    "    else:\n",
    "        return print(resultado2)\n",
    "\n",
    "\n",
    "segundoTurno(1000000,700000) "
   ]
  },
  {
   "cell_type": "code",
   "execution_count": 1,
   "metadata": {},
   "outputs": [
    {
     "name": "stdin",
     "output_type": "stream",
     "text": [
      "Digite o seu tipo de carro (A, B, C) a\n",
      "Digite a kilometragem 100\n"
     ]
    }
   ],
   "source": [
    "def carroA(km):\n",
    "    return km*12\n",
    "    \n",
    "def carroB(km):\n",
    "    return km*9\n",
    "    \n",
    "def carroC(km):\n",
    "    return km*8\n",
    "\n",
    "TipoDeCarro= input(\"Digite o seu tipo de carro (A, B, C)\")\n",
    "km= input(\"Digite a kilometragem\")\n",
    "\n",
    "\n",
    "if (TipoDeCarro == \"a\") :\n",
    "    carroA(km)\n",
    "elif(TipoDeCarro == \"b\"):\n",
    "    carroB(km)\n",
    "else:\n",
    "    carroC(km)\n",
    "\n"
   ]
  },
  {
   "cell_type": "code",
   "execution_count": null,
   "metadata": {},
   "outputs": [],
   "source": []
  }
 ],
 "metadata": {
  "kernelspec": {
   "display_name": "Python 3",
   "language": "python",
   "name": "python3"
  },
  "language_info": {
   "codemirror_mode": {
    "name": "ipython",
    "version": 3
   },
   "file_extension": ".py",
   "mimetype": "text/x-python",
   "name": "python",
   "nbconvert_exporter": "python",
   "pygments_lexer": "ipython3",
   "version": "3.7.4"
  }
 },
 "nbformat": 4,
 "nbformat_minor": 4
}
